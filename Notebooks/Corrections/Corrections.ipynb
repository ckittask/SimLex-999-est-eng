{
 "cells": [
  {
   "cell_type": "markdown",
   "metadata": {},
   "source": [
    "## Corrections\n",
    "Checking corrections made by the linguist, calculating inter-annotator agreement and correlation with SimLex-999 scores"
   ]
  },
  {
   "cell_type": "code",
   "execution_count": 1,
   "metadata": {},
   "outputs": [],
   "source": [
    "import pandas as pd\n",
    "import math\n",
    "from scipy.stats import kendalltau, spearmanr, pearsonr"
   ]
  },
  {
   "cell_type": "code",
   "execution_count": 2,
   "metadata": {},
   "outputs": [
    {
     "data": {
      "text/html": [
       "<div>\n",
       "<style scoped>\n",
       "    .dataframe tbody tr th:only-of-type {\n",
       "        vertical-align: middle;\n",
       "    }\n",
       "\n",
       "    .dataframe tbody tr th {\n",
       "        vertical-align: top;\n",
       "    }\n",
       "\n",
       "    .dataframe thead th {\n",
       "        text-align: right;\n",
       "    }\n",
       "</style>\n",
       "<table border=\"1\" class=\"dataframe\">\n",
       "  <thead>\n",
       "    <tr style=\"text-align: right;\">\n",
       "      <th></th>\n",
       "      <th>word 1</th>\n",
       "      <th>word 2</th>\n",
       "      <th>sõna 1</th>\n",
       "      <th>sõna 2</th>\n",
       "      <th>POS</th>\n",
       "      <th>SimLex999</th>\n",
       "      <th>uus sõna 1</th>\n",
       "      <th>uus sõna 2</th>\n",
       "      <th>Unnamed: 8</th>\n",
       "    </tr>\n",
       "  </thead>\n",
       "  <tbody>\n",
       "    <tr>\n",
       "      <th>0</th>\n",
       "      <td>old</td>\n",
       "      <td>new</td>\n",
       "      <td>vana</td>\n",
       "      <td>uus</td>\n",
       "      <td>A</td>\n",
       "      <td>1.58</td>\n",
       "      <td>-</td>\n",
       "      <td>-</td>\n",
       "      <td>-</td>\n",
       "    </tr>\n",
       "    <tr>\n",
       "      <th>1</th>\n",
       "      <td>smart</td>\n",
       "      <td>intelligent</td>\n",
       "      <td>tark</td>\n",
       "      <td>intelligentne</td>\n",
       "      <td>A</td>\n",
       "      <td>9.20</td>\n",
       "      <td>-</td>\n",
       "      <td>-</td>\n",
       "      <td>-</td>\n",
       "    </tr>\n",
       "    <tr>\n",
       "      <th>2</th>\n",
       "      <td>hard</td>\n",
       "      <td>difficult</td>\n",
       "      <td>raske</td>\n",
       "      <td>keeruline</td>\n",
       "      <td>A</td>\n",
       "      <td>8.77</td>\n",
       "      <td>-</td>\n",
       "      <td>-</td>\n",
       "      <td>-</td>\n",
       "    </tr>\n",
       "    <tr>\n",
       "      <th>3</th>\n",
       "      <td>happy</td>\n",
       "      <td>cheerful</td>\n",
       "      <td>õnnelik</td>\n",
       "      <td>rõõmsameelne</td>\n",
       "      <td>A</td>\n",
       "      <td>9.55</td>\n",
       "      <td>-</td>\n",
       "      <td>-</td>\n",
       "      <td>-</td>\n",
       "    </tr>\n",
       "    <tr>\n",
       "      <th>4</th>\n",
       "      <td>hard</td>\n",
       "      <td>easy</td>\n",
       "      <td>raske</td>\n",
       "      <td>lihtne</td>\n",
       "      <td>A</td>\n",
       "      <td>0.95</td>\n",
       "      <td>-</td>\n",
       "      <td>-</td>\n",
       "      <td>-</td>\n",
       "    </tr>\n",
       "  </tbody>\n",
       "</table>\n",
       "</div>"
      ],
      "text/plain": [
       "  word 1       word 2   sõna 1         sõna 2 POS  SimLex999 uus sõna 1  \\\n",
       "0    old          new     vana            uus   A       1.58          -   \n",
       "1  smart  intelligent     tark  intelligentne   A       9.20          -   \n",
       "2   hard    difficult    raske      keeruline   A       8.77          -   \n",
       "3  happy     cheerful  õnnelik   rõõmsameelne   A       9.55          -   \n",
       "4   hard         easy    raske         lihtne   A       0.95          -   \n",
       "\n",
       "  uus sõna 2 Unnamed: 8  \n",
       "0          -          -  \n",
       "1          -          -  \n",
       "2          -          -  \n",
       "3          -          -  \n",
       "4          -          -  "
      ]
     },
     "execution_count": 2,
     "metadata": {},
     "output_type": "execute_result"
    }
   ],
   "source": [
    "# saving corrections made by linguist to a dataframe\n",
    "data = pd.read_excel(\"SimLex-999-eng-est.xlsx\")\n",
    "data = data.fillna(\"-\")\n",
    "data.head()"
   ]
  },
  {
   "cell_type": "code",
   "execution_count": 3,
   "metadata": {},
   "outputs": [],
   "source": [
    "# Checking the corrections, adding those to a different lists\n",
    "count = 0\n",
    "a = []\n",
    "sõna1 = []\n",
    "sõna2 = []\n",
    "pos = []\n",
    "kõik1=[]\n",
    "kõik2= []\n",
    "for i, row in data.iterrows():\n",
    "    uus1 = row[\"uus sõna 1\"]\n",
    "    uus2 = row[\"uus sõna 2\"]\n",
    "    \n",
    "    if  \"/\" in uus1: # on parandatud esimest tõlget \n",
    "        uus1 = uus1.split(\"/\")[0]\n",
    "    if  \"/\" in uus2:  # on parandatud teist tõlget\n",
    "        uus2 = uus2.split(\"/\")[0]   \n",
    "        \n",
    "    if uus1 !=\"-\" and uus2!=\"-\":\n",
    "        if uus1 not in a: \n",
    "            a.append(uus1)\n",
    "        if uus2 not in a: \n",
    "            a.append(uus2)\n",
    "        pos.append(row[\"POS\"])\n",
    "        sõna1.append(uus1)\n",
    "        sõna2.append(uus2)\n",
    "        kõik1.append(uus1)\n",
    "        kõik2.append(uus2)\n",
    "        count +=1\n",
    "    elif uus2 != \"-\":\n",
    "        if uus2 not in a: \n",
    "            a.append(uus2)\n",
    "        pos.append(row[\"POS\"])\n",
    "        sõna1.append(row[\"sõna 1\"])\n",
    "        sõna2.append(uus2)\n",
    "        \n",
    "        kõik1.append(row[\"sõna 1\"])\n",
    "        kõik2.append(uus2)\n",
    "        count += 1\n",
    "    elif uus1 != \"-\": \n",
    "        if uus1 not in a: \n",
    "            a.append(uus1)\n",
    "        sõna1.append(uus1)\n",
    "        pos.append(row[\"POS\"])\n",
    "        sõna2.append(row[\"sõna 2\"])\n",
    "        \n",
    "        kõik1.append(uus1)\n",
    "        kõik2.append(row[\"sõna 2\"])\n",
    "        count += 1\n",
    "    else: \n",
    "        \n",
    "        kõik1.append(row[\"sõna 1\"])\n",
    "        kõik2.append(row[\"sõna 2\"])"
   ]
  },
  {
   "cell_type": "code",
   "execution_count": 4,
   "metadata": {},
   "outputs": [
    {
     "data": {
      "text/plain": [
       "172"
      ]
     },
     "execution_count": 4,
     "metadata": {},
     "output_type": "execute_result"
    }
   ],
   "source": [
    "count # how many wordpairs were corrected"
   ]
  },
  {
   "cell_type": "code",
   "execution_count": 7,
   "metadata": {},
   "outputs": [],
   "source": [
    "all_rates = pd.read_excel(\"rates.xlsx\")\n"
   ]
  },
  {
   "cell_type": "code",
   "execution_count": 106,
   "metadata": {},
   "outputs": [
    {
     "name": "stdout",
     "output_type": "stream",
     "text": [
      "SpearmanrResult(correlation=0.7341249711881868, pvalue=8.311445761033118e-170) SpearmanrResult(correlation=0.8332756515708574, pvalue=7.363142023496155e-259) SpearmanrResult(correlation=0.752230774644078, pvalue=7.738822832055767e-183) SpearmanrResult(correlation=0.7740826603199239, pvalue=3.7215945665903386e-200) SpearmanrResult(correlation=0.7745042318727845, pvalue=1.650307112524585e-200) SpearmanrResult(correlation=0.7922142285651765, pvalue=4.464139382392908e-216)\n"
     ]
    }
   ],
   "source": [
    "üks = spearmanr(all_rates[\"Annotator 1\"], all_rates[\"Annotator 2\"])\n",
    "kaks = spearmanr(all_rates[\"Annotator 1\"], all_rates[\"Annotator 3\"])\n",
    "kolm = spearmanr(all_rates[\"Annotator 1\"], all_rates[\"Annotator 4\"])\n",
    "neli = spearmanr(all_rates[\"Annotator 2\"], all_rates[\"Annotator 3\"])\n",
    "viis = spearmanr(all_rates[\"Annotator 2\"], all_rates[\"Annotator 4\"])\n",
    "kuus= spearmanr(all_rates[\"Annotator 3\"], all_rates[\"Annotator 4\"])\n",
    "print(üks, kaks, kolm, neli, viis, kuus)"
   ]
  },
  {
   "cell_type": "code",
   "execution_count": 109,
   "metadata": {},
   "outputs": [
    {
     "data": {
      "text/plain": [
       "0.7767387530268346"
      ]
     },
     "execution_count": 109,
     "metadata": {},
     "output_type": "execute_result"
    }
   ],
   "source": [
    "(üks[0]+kaks[0]+kolm[0]+neli[0]+viis[0]+kuus[0])/6  # inter annotator agreement"
   ]
  },
  {
   "cell_type": "code",
   "execution_count": 110,
   "metadata": {},
   "outputs": [
    {
     "data": {
      "text/plain": [
       "SpearmanrResult(correlation=0.8422303023353098, pvalue=9.238063815488013e-270)"
      ]
     },
     "execution_count": 110,
     "metadata": {},
     "output_type": "execute_result"
    }
   ],
   "source": [
    "spearmanr(all_rates.SimLex999, all_rates.Average) # corr with simlex"
   ]
  }
 ],
 "metadata": {
  "kernelspec": {
   "display_name": "Python 3",
   "language": "python",
   "name": "python3"
  },
  "language_info": {
   "codemirror_mode": {
    "name": "ipython",
    "version": 3
   },
   "file_extension": ".py",
   "mimetype": "text/x-python",
   "name": "python",
   "nbconvert_exporter": "python",
   "pygments_lexer": "ipython3",
   "version": "3.6.5"
  }
 },
 "nbformat": 4,
 "nbformat_minor": 2
}
