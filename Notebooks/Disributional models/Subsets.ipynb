{
 "cells": [
  {
   "cell_type": "markdown",
   "metadata": {},
   "source": [
    "## Calculating the correlations on different subsets of EstSimLex-999\n",
    "All the correlations are actually calculated already,but these have to be filtered "
   ]
  },
  {
   "cell_type": "code",
   "execution_count": 2,
   "metadata": {},
   "outputs": [],
   "source": [
    "import pandas as pd"
   ]
  },
  {
   "cell_type": "code",
   "execution_count": 3,
   "metadata": {},
   "outputs": [
    {
     "data": {
      "text/html": [
       "<div>\n",
       "<style scoped>\n",
       "    .dataframe tbody tr th:only-of-type {\n",
       "        vertical-align: middle;\n",
       "    }\n",
       "\n",
       "    .dataframe tbody tr th {\n",
       "        vertical-align: top;\n",
       "    }\n",
       "\n",
       "    .dataframe thead th {\n",
       "        text-align: right;\n",
       "    }\n",
       "</style>\n",
       "<table border=\"1\" class=\"dataframe\">\n",
       "  <thead>\n",
       "    <tr style=\"text-align: right;\">\n",
       "      <th></th>\n",
       "      <th>model</th>\n",
       "      <th>pearson</th>\n",
       "      <th>spearman</th>\n",
       "      <th>kendall</th>\n",
       "      <th>E_pearson</th>\n",
       "      <th>E_spearman</th>\n",
       "      <th>E_kendall</th>\n",
       "      <th>missing</th>\n",
       "    </tr>\n",
       "  </thead>\n",
       "  <tbody>\n",
       "    <tr>\n",
       "      <th>0</th>\n",
       "      <td>wiki_model_est_fastText</td>\n",
       "      <td>0.329377</td>\n",
       "      <td>0.329730</td>\n",
       "      <td>0.227691</td>\n",
       "      <td>0.327515</td>\n",
       "      <td>0.336512</td>\n",
       "      <td>0.235353</td>\n",
       "      <td>75</td>\n",
       "    </tr>\n",
       "    <tr>\n",
       "      <th>1</th>\n",
       "      <td>lemma_est_model_cbow100</td>\n",
       "      <td>0.320795</td>\n",
       "      <td>0.308779</td>\n",
       "      <td>0.210258</td>\n",
       "      <td>0.342982</td>\n",
       "      <td>0.358639</td>\n",
       "      <td>0.249475</td>\n",
       "      <td>17</td>\n",
       "    </tr>\n",
       "    <tr>\n",
       "      <th>2</th>\n",
       "      <td>lemma_est_model_sg100</td>\n",
       "      <td>0.349164</td>\n",
       "      <td>0.333613</td>\n",
       "      <td>0.228288</td>\n",
       "      <td>0.382030</td>\n",
       "      <td>0.394617</td>\n",
       "      <td>0.275710</td>\n",
       "      <td>17</td>\n",
       "    </tr>\n",
       "    <tr>\n",
       "      <th>3</th>\n",
       "      <td>lemma_est_model_cbow200</td>\n",
       "      <td>0.341481</td>\n",
       "      <td>0.330983</td>\n",
       "      <td>0.226387</td>\n",
       "      <td>0.371409</td>\n",
       "      <td>0.384564</td>\n",
       "      <td>0.269278</td>\n",
       "      <td>17</td>\n",
       "    </tr>\n",
       "    <tr>\n",
       "      <th>4</th>\n",
       "      <td>lemma_est_model_sg200</td>\n",
       "      <td>0.365875</td>\n",
       "      <td>0.355722</td>\n",
       "      <td>0.243443</td>\n",
       "      <td>0.410493</td>\n",
       "      <td>0.424398</td>\n",
       "      <td>0.296909</td>\n",
       "      <td>17</td>\n",
       "    </tr>\n",
       "  </tbody>\n",
       "</table>\n",
       "</div>"
      ],
      "text/plain": [
       "                     model   pearson  spearman   kendall  E_pearson  \\\n",
       "0  wiki_model_est_fastText  0.329377  0.329730  0.227691   0.327515   \n",
       "1  lemma_est_model_cbow100  0.320795  0.308779  0.210258   0.342982   \n",
       "2    lemma_est_model_sg100  0.349164  0.333613  0.228288   0.382030   \n",
       "3  lemma_est_model_cbow200  0.341481  0.330983  0.226387   0.371409   \n",
       "4    lemma_est_model_sg200  0.365875  0.355722  0.243443   0.410493   \n",
       "\n",
       "   E_spearman  E_kendall  missing  \n",
       "0    0.336512   0.235353       75  \n",
       "1    0.358639   0.249475       17  \n",
       "2    0.394617   0.275710       17  \n",
       "3    0.384564   0.269278       17  \n",
       "4    0.424398   0.296909       17  "
      ]
     },
     "execution_count": 3,
     "metadata": {},
     "output_type": "execute_result"
    }
   ],
   "source": [
    "data = pd.read_excel(\"correlations1.xlsx\")\n",
    "data.head()"
   ]
  },
  {
   "cell_type": "code",
   "execution_count": 4,
   "metadata": {},
   "outputs": [
    {
     "data": {
      "text/plain": [
       "pearson       0.446851\n",
       "spearman      0.430631\n",
       "kendall       0.297812\n",
       "E_pearson     0.429595\n",
       "E_spearman    0.453329\n",
       "E_kendall     0.317393\n",
       "missing       9.157895\n",
       "dtype: float64"
      ]
     },
     "execution_count": 4,
     "metadata": {},
     "output_type": "execute_result"
    }
   ],
   "source": [
    "# Correaltion on the nouns subset\n",
    "nouns = data[data[\"model\"].str.endswith(\"N\")]\n",
    "nouns.mean()"
   ]
  },
  {
   "cell_type": "code",
   "execution_count": 5,
   "metadata": {},
   "outputs": [
    {
     "data": {
      "text/plain": [
       "pearson       0.368808\n",
       "spearman      0.397956\n",
       "kendall       0.281483\n",
       "E_pearson     0.342523\n",
       "E_spearman    0.290076\n",
       "E_kendall     0.197999\n",
       "missing       1.710526\n",
       "dtype: float64"
      ]
     },
     "execution_count": 5,
     "metadata": {},
     "output_type": "execute_result"
    }
   ],
   "source": [
    "# Correlation on adjectives subset\n",
    "adj = data[data[\"model\"].str.endswith(\"A\")]\n",
    "adj.mean()"
   ]
  },
  {
   "cell_type": "code",
   "execution_count": 6,
   "metadata": {},
   "outputs": [
    {
     "data": {
      "text/plain": [
       "pearson       0.239921\n",
       "spearman      0.230139\n",
       "kendall       0.158681\n",
       "E_pearson     0.377404\n",
       "E_spearman    0.345127\n",
       "E_kendall     0.242105\n",
       "missing       2.789474\n",
       "dtype: float64"
      ]
     },
     "execution_count": 6,
     "metadata": {},
     "output_type": "execute_result"
    }
   ],
   "source": [
    "# correaltion on verbs subset\n",
    "verbs = data[data[\"model\"].str.endswith(\"V\")]\n",
    "verbs.mean()"
   ]
  },
  {
   "cell_type": "code",
   "execution_count": 7,
   "metadata": {},
   "outputs": [
    {
     "data": {
      "text/plain": [
       "pearson       0.450484\n",
       "spearman      0.438338\n",
       "kendall       0.308439\n",
       "E_pearson     0.514567\n",
       "E_spearman    0.489665\n",
       "E_kendall     0.351702\n",
       "missing       2.421053\n",
       "dtype: float64"
      ]
     },
     "execution_count": 7,
     "metadata": {},
     "output_type": "execute_result"
    }
   ],
   "source": [
    "# correlation on abstract subset\n",
    "ab = data[data[\"model\"].str.endswith(\"abs\")]\n",
    "ab.mean()"
   ]
  },
  {
   "cell_type": "code",
   "execution_count": 8,
   "metadata": {},
   "outputs": [
    {
     "data": {
      "text/plain": [
       "pearson       0.436322\n",
       "spearman      0.432773\n",
       "kendall       0.301507\n",
       "E_pearson     0.399653\n",
       "E_spearman    0.456337\n",
       "E_kendall     0.326374\n",
       "missing       3.500000\n",
       "dtype: float64"
      ]
     },
     "execution_count": 8,
     "metadata": {},
     "output_type": "execute_result"
    }
   ],
   "source": [
    "# correlation on concrete subset\n",
    "conc = data[data[\"model\"].str.endswith(\"conc\")]\n",
    "conc.mean()"
   ]
  }
 ],
 "metadata": {
  "kernelspec": {
   "display_name": "Python 3",
   "language": "python",
   "name": "python3"
  },
  "language_info": {
   "codemirror_mode": {
    "name": "ipython",
    "version": 3
   },
   "file_extension": ".py",
   "mimetype": "text/x-python",
   "name": "python",
   "nbconvert_exporter": "python",
   "pygments_lexer": "ipython3",
   "version": "3.6.5"
  }
 },
 "nbformat": 4,
 "nbformat_minor": 2
}
