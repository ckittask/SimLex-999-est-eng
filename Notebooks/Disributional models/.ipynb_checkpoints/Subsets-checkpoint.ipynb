{
 "cells": [
  {
   "cell_type": "markdown",
   "metadata": {},
   "source": [
    "## Calculating the correlations on different subsets of EstSimLex-999\n",
    "All the correlations are calculated already, but these have to be filtered t"
   ]
  },
  {
   "cell_type": "code",
   "execution_count": 2,
   "metadata": {
    "collapsed": true
   },
   "outputs": [],
   "source": [
    "import pandas as pd"
   ]
  },
  {
   "cell_type": "code",
   "execution_count": 3,
   "metadata": {},
   "outputs": [
    {
     "data": {
      "text/html": [
       "<div>\n",
       "<style scoped>\n",
       "    .dataframe tbody tr th:only-of-type {\n",
       "        vertical-align: middle;\n",
       "    }\n",
       "\n",
       "    .dataframe tbody tr th {\n",
       "        vertical-align: top;\n",
       "    }\n",
       "\n",
       "    .dataframe thead th {\n",
       "        text-align: right;\n",
       "    }\n",
       "</style>\n",
       "<table border=\"1\" class=\"dataframe\">\n",
       "  <thead>\n",
       "    <tr style=\"text-align: right;\">\n",
       "      <th></th>\n",
       "      <th>Unnamed: 0</th>\n",
       "      <th>model</th>\n",
       "      <th>SL_pearson</th>\n",
       "      <th>SL_spearman</th>\n",
       "      <th>SL_kendall</th>\n",
       "      <th>ESL_pearson</th>\n",
       "      <th>ESL_spearman</th>\n",
       "      <th>ESL_kendall</th>\n",
       "      <th>missing</th>\n",
       "    </tr>\n",
       "  </thead>\n",
       "  <tbody>\n",
       "    <tr>\n",
       "      <th>0</th>\n",
       "      <td>0</td>\n",
       "      <td>wiki_model_est_orig</td>\n",
       "      <td>0.329</td>\n",
       "      <td>0.330</td>\n",
       "      <td>0.228</td>\n",
       "      <td>0.328</td>\n",
       "      <td>0.337</td>\n",
       "      <td>0.235</td>\n",
       "      <td>75</td>\n",
       "    </tr>\n",
       "    <tr>\n",
       "      <th>1</th>\n",
       "      <td>1</td>\n",
       "      <td>wiki_model_est_A</td>\n",
       "      <td>0.158</td>\n",
       "      <td>0.173</td>\n",
       "      <td>0.122</td>\n",
       "      <td>0.125</td>\n",
       "      <td>0.080</td>\n",
       "      <td>0.053</td>\n",
       "      <td>-</td>\n",
       "    </tr>\n",
       "    <tr>\n",
       "      <th>2</th>\n",
       "      <td>2</td>\n",
       "      <td>wiki_model_est_N</td>\n",
       "      <td>0.424</td>\n",
       "      <td>0.438</td>\n",
       "      <td>0.303</td>\n",
       "      <td>0.456</td>\n",
       "      <td>0.484</td>\n",
       "      <td>0.342</td>\n",
       "      <td>-</td>\n",
       "    </tr>\n",
       "    <tr>\n",
       "      <th>3</th>\n",
       "      <td>3</td>\n",
       "      <td>wiki_model_est_V</td>\n",
       "      <td>0.166</td>\n",
       "      <td>0.191</td>\n",
       "      <td>0.135</td>\n",
       "      <td>0.221</td>\n",
       "      <td>0.228</td>\n",
       "      <td>0.162</td>\n",
       "      <td>-</td>\n",
       "    </tr>\n",
       "    <tr>\n",
       "      <th>4</th>\n",
       "      <td>4</td>\n",
       "      <td>wiki_model_est_conc</td>\n",
       "      <td>0.465</td>\n",
       "      <td>0.455</td>\n",
       "      <td>0.313</td>\n",
       "      <td>0.486</td>\n",
       "      <td>0.496</td>\n",
       "      <td>0.350</td>\n",
       "      <td>-</td>\n",
       "    </tr>\n",
       "  </tbody>\n",
       "</table>\n",
       "</div>"
      ],
      "text/plain": [
       "   Unnamed: 0                model  SL_pearson  SL_spearman  SL_kendall  \\\n",
       "0           0  wiki_model_est_orig       0.329        0.330       0.228   \n",
       "1           1     wiki_model_est_A       0.158        0.173       0.122   \n",
       "2           2     wiki_model_est_N       0.424        0.438       0.303   \n",
       "3           3     wiki_model_est_V       0.166        0.191       0.135   \n",
       "4           4  wiki_model_est_conc       0.465        0.455       0.313   \n",
       "\n",
       "   ESL_pearson  ESL_spearman  ESL_kendall missing  \n",
       "0        0.328         0.337        0.235      75  \n",
       "1        0.125         0.080        0.053       -  \n",
       "2        0.456         0.484        0.342       -  \n",
       "3        0.221         0.228        0.162       -  \n",
       "4        0.486         0.496        0.350       -  "
      ]
     },
     "execution_count": 3,
     "metadata": {},
     "output_type": "execute_result"
    }
   ],
   "source": [
    "data = pd.read_excel(\"all_correlations.xlsx\")\n",
    "data.head()"
   ]
  },
  {
   "cell_type": "code",
   "execution_count": 4,
   "metadata": {},
   "outputs": [
    {
     "data": {
      "text/plain": [
       "Unnamed: 0      32.000000\n",
       "SL_pearson       0.394091\n",
       "SL_spearman      0.375091\n",
       "SL_kendall       0.256727\n",
       "ESL_pearson      0.398545\n",
       "ESL_spearman     0.419000\n",
       "ESL_kendall      0.292727\n",
       "dtype: float64"
      ]
     },
     "execution_count": 4,
     "metadata": {},
     "output_type": "execute_result"
    }
   ],
   "source": [
    "# Correaltion on the nouns subset\n",
    "nouns = data[data[\"model\"].str.endswith(\"N\")]\n",
    "nouns.mean()"
   ]
  },
  {
   "cell_type": "code",
   "execution_count": 5,
   "metadata": {},
   "outputs": [
    {
     "data": {
      "text/plain": [
       "Unnamed: 0      31.000000\n",
       "SL_pearson       0.264545\n",
       "SL_spearman      0.299545\n",
       "SL_kendall       0.203909\n",
       "ESL_pearson      0.247455\n",
       "ESL_spearman     0.202636\n",
       "ESL_kendall      0.129455\n",
       "dtype: float64"
      ]
     },
     "execution_count": 5,
     "metadata": {},
     "output_type": "execute_result"
    }
   ],
   "source": [
    "# Correlation on adjectives subset\n",
    "adj = data[data[\"model\"].str.endswith(\"A\")]\n",
    "adj.mean()"
   ]
  },
  {
   "cell_type": "code",
   "execution_count": 6,
   "metadata": {},
   "outputs": [
    {
     "data": {
      "text/plain": [
       "Unnamed: 0      33.000000\n",
       "SL_pearson       0.185909\n",
       "SL_spearman      0.187364\n",
       "SL_kendall       0.128545\n",
       "ESL_pearson      0.332273\n",
       "ESL_spearman     0.318000\n",
       "ESL_kendall      0.225545\n",
       "dtype: float64"
      ]
     },
     "execution_count": 6,
     "metadata": {},
     "output_type": "execute_result"
    }
   ],
   "source": [
    "# correaltion on verbs subset\n",
    "verbs = data[data[\"model\"].str.endswith(\"V\")]\n",
    "verbs.mean()"
   ]
  },
  {
   "cell_type": "code",
   "execution_count": 8,
   "metadata": {},
   "outputs": [
    {
     "data": {
      "text/plain": [
       "Unnamed: 0      35.000000\n",
       "SL_pearson       0.368364\n",
       "SL_spearman      0.360000\n",
       "SL_kendall       0.249636\n",
       "ESL_pearson      0.434727\n",
       "ESL_spearman     0.415636\n",
       "ESL_kendall      0.298727\n",
       "dtype: float64"
      ]
     },
     "execution_count": 8,
     "metadata": {},
     "output_type": "execute_result"
    }
   ],
   "source": [
    "# correlation on abstract subset\n",
    "ab = data[data[\"model\"].str.endswith(\"abst\")]\n",
    "ab.mean()"
   ]
  },
  {
   "cell_type": "code",
   "execution_count": 9,
   "metadata": {},
   "outputs": [
    {
     "data": {
      "text/plain": [
       "Unnamed: 0      34.000000\n",
       "SL_pearson       0.376818\n",
       "SL_spearman      0.372091\n",
       "SL_kendall       0.255636\n",
       "ESL_pearson      0.348545\n",
       "ESL_spearman     0.402545\n",
       "ESL_kendall      0.284727\n",
       "dtype: float64"
      ]
     },
     "execution_count": 9,
     "metadata": {},
     "output_type": "execute_result"
    }
   ],
   "source": [
    "# correlation on concrete subset\n",
    "conc = data[data[\"model\"].str.endswith(\"conc\")]\n",
    "conc.mean()"
   ]
  }
 ],
 "metadata": {
  "kernelspec": {
   "display_name": "Python 3",
   "language": "python",
   "name": "python3"
  },
  "language_info": {
   "codemirror_mode": {
    "name": "ipython",
    "version": 3
   },
   "file_extension": ".py",
   "mimetype": "text/x-python",
   "name": "python",
   "nbconvert_exporter": "python",
   "pygments_lexer": "ipython3",
   "version": "3.6.3"
  }
 },
 "nbformat": 4,
 "nbformat_minor": 2
}
